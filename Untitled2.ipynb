{
 "cells": [
  {
   "cell_type": "code",
   "execution_count": 1,
   "id": "9c003e0c",
   "metadata": {},
   "outputs": [],
   "source": [
    "import pandas as pd"
   ]
  },
  {
   "cell_type": "code",
   "execution_count": 2,
   "id": "64a15f57",
   "metadata": {},
   "outputs": [],
   "source": [
    "import tkinter as tk\n",
    "from tkinter import *\n",
    "from tkinter import ttk"
   ]
  },
  {
   "cell_type": "code",
   "execution_count": 4,
   "id": "f2156ba6",
   "metadata": {
    "scrolled": true
   },
   "outputs": [
    {
     "data": {
      "text/html": [
       "<div>\n",
       "<style scoped>\n",
       "    .dataframe tbody tr th:only-of-type {\n",
       "        vertical-align: middle;\n",
       "    }\n",
       "\n",
       "    .dataframe tbody tr th {\n",
       "        vertical-align: top;\n",
       "    }\n",
       "\n",
       "    .dataframe thead th {\n",
       "        text-align: right;\n",
       "    }\n",
       "</style>\n",
       "<table border=\"1\" class=\"dataframe\">\n",
       "  <thead>\n",
       "    <tr style=\"text-align: right;\">\n",
       "      <th></th>\n",
       "      <th>Name</th>\n",
       "      <th>Age</th>\n",
       "    </tr>\n",
       "  </thead>\n",
       "  <tbody>\n",
       "    <tr>\n",
       "      <th>0</th>\n",
       "      <td>Tom</td>\n",
       "      <td>20</td>\n",
       "    </tr>\n",
       "    <tr>\n",
       "      <th>1</th>\n",
       "      <td>nick</td>\n",
       "      <td>21</td>\n",
       "    </tr>\n",
       "    <tr>\n",
       "      <th>2</th>\n",
       "      <td>krish</td>\n",
       "      <td>19</td>\n",
       "    </tr>\n",
       "    <tr>\n",
       "      <th>3</th>\n",
       "      <td>jack</td>\n",
       "      <td>18</td>\n",
       "    </tr>\n",
       "  </tbody>\n",
       "</table>\n",
       "</div>"
      ],
      "text/plain": [
       "    Name  Age\n",
       "0    Tom   20\n",
       "1   nick   21\n",
       "2  krish   19\n",
       "3   jack   18"
      ]
     },
     "execution_count": 4,
     "metadata": {},
     "output_type": "execute_result"
    }
   ],
   "source": [
    "data = {'Name':['Tom', 'nick', 'krish', 'jack'],\n",
    "        'Age':[20, 21, 19, 18]}\n",
    "\n",
    "# Create DataFrame\n",
    "df = pd.DataFrame(data)\n",
    "df"
   ]
  },
  {
   "cell_type": "code",
   "execution_count": 6,
   "id": "8e42eb63",
   "metadata": {},
   "outputs": [],
   "source": [
    "window = tk.Tk()\n",
    "window.resizable(width = 1, height = 1)\n",
    " \n",
    "treev = ttk.Treeview(window, selectmode ='browse')\n",
    " \n",
    "treev.pack(side ='right')\n",
    " \n",
    "verscrlbar = ttk.Scrollbar(window,\n",
    "                           orient =\"vertical\",\n",
    "                           command = treev.yview)\n",
    "\n",
    "verscrlbar.pack(side ='right', fill ='x')\n",
    " \n",
    "treev.configure(xscrollcommand = verscrlbar.set)\n",
    " \n",
    "# Defining number of columns\n",
    "treev[\"columns\"] = (\"1\", \"2\", \"3\")\n",
    " \n",
    "# Defining heading\n",
    "treev['show'] = 'headings'\n",
    " \n",
    "# Assigning the width and anchor to  the\n",
    "# respective columns\n",
    "treev.column(\"1\", width = 90, anchor ='c')\n",
    "treev.column(\"2\", width = 90, anchor ='se')\n",
    "treev.column(\"3\", width = 90, anchor ='se')\n",
    " \n",
    "# Assigning the heading names to the\n",
    "# respective columns\n",
    "treev.heading(\"1\", text =\"Name\")\n",
    "treev.heading(\"2\", text =\"Sex\")\n",
    "treev.heading(\"3\", text =\"Age\")\n",
    " \n",
    "# Inserting the items and their features to the\n",
    "# columns built\n",
    "treev.insert(\"\", 'end', text =\"L1\",\n",
    "             values =(\"Nidhi\", \"F\", \"25\"))\n",
    "treev.insert(\"\", 'end', text =\"L2\",\n",
    "             values =(\"Nisha\", \"F\", \"23\"))\n",
    "treev.insert(\"\", 'end', text =\"L3\",\n",
    "             values =(\"Preeti\", \"F\", \"27\"))\n",
    "treev.insert(\"\", 'end', text =\"L4\",\n",
    "             values =(\"Rahul\", \"M\", \"20\"))\n",
    "treev.insert(\"\", 'end', text =\"L5\",\n",
    "             values =(\"Sonu\", \"F\", \"18\"))\n",
    "treev.insert(\"\", 'end', text =\"L6\",\n",
    "             values =(\"Rohit\", \"M\", \"19\"))\n",
    "treev.insert(\"\", 'end', text =\"L7\",\n",
    "             values =(\"Geeta\", \"F\", \"25\"))\n",
    "treev.insert(\"\", 'end', text =\"L8\",\n",
    "             values =(\"Ankit\", \"M\", \"22\"))\n",
    "treev.insert(\"\", 'end', text =\"L10\",\n",
    "             values =(\"Mukul\", \"F\", \"25\"))\n",
    "treev.insert(\"\", 'end', text =\"L11\",\n",
    "             values =(\"Mohit\", \"M\", \"16\"))\n",
    "treev.insert(\"\", 'end', text =\"L12\",\n",
    "             values =(\"Vivek\", \"M\", \"22\"))\n",
    "treev.insert(\"\", 'end', text =\"L13\",\n",
    "             values =(\"Suman\", \"F\", \"30\"))\n",
    " \n",
    "# Calling mainloop\n",
    "window.mainloop()"
   ]
  },
  {
   "cell_type": "code",
   "execution_count": null,
   "id": "73219d1b",
   "metadata": {},
   "outputs": [],
   "source": [
    "win = Tk()\n",
    "frm = Frame(win)\n",
    "frm.pack(side = tk.LEFT,padx = 20)\n",
    "\n",
    "tv = ttk.Treeview(frm,columns = (1,2,3,4),show = df[\"Name\"],height = 5)\n",
    "tv.pack()\n",
    "tv.heading(1,\"S.no\")\n",
    "tv.heading(2,\"Name\")"
   ]
  }
 ],
 "metadata": {
  "kernelspec": {
   "display_name": "Python 3",
   "language": "python",
   "name": "python3"
  },
  "language_info": {
   "codemirror_mode": {
    "name": "ipython",
    "version": 3
   },
   "file_extension": ".py",
   "mimetype": "text/x-python",
   "name": "python",
   "nbconvert_exporter": "python",
   "pygments_lexer": "ipython3",
   "version": "3.8.8"
  }
 },
 "nbformat": 4,
 "nbformat_minor": 5
}
