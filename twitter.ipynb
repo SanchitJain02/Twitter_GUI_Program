{
 "cells": [
  {
   "cell_type": "code",
   "execution_count": 1,
   "id": "fc0b5cf6",
   "metadata": {},
   "outputs": [],
   "source": [
    "import tweepy\n",
    "import pandas as pd"
   ]
  },
  {
   "cell_type": "code",
   "execution_count": 4,
   "id": "56a2e41e",
   "metadata": {},
   "outputs": [],
   "source": [
    "consumer_key = \"dkJmeyfZH81HSOFfwTdSkST99\"\n",
    "consumer_secret = \"p1iv1RpTKj7Uh2wmOwjeqTtxdYpfp28U3RURW7eweBn01DV0LK\"\n",
    "access_token = \"1250285356487856128-dSkMsYzWvbCALvpJgj1ZH1vimPmZ3K\"\n",
    "access_token_secret = \"n2VqtQmzdRnFGct2SOAw8v0ozsud9zIWclDkaBiVpK3rp\"\n"
   ]
  },
  {
   "cell_type": "code",
   "execution_count": 5,
   "id": "1ef0c792",
   "metadata": {},
   "outputs": [],
   "source": [
    "auth = tweepy.OAuthHandler(consumer_key,consumer_secret)\n",
    "auth.set_access_token(access_token,access_token_secret)\n",
    "api = tweepy.API(auth)"
   ]
  },
  {
   "cell_type": "code",
   "execution_count": null,
   "id": "3df504c3",
   "metadata": {},
   "outputs": [],
   "source": [
    "api.search_tweets"
   ]
  },
  {
   "cell_type": "code",
   "execution_count": 16,
   "id": "c71da061",
   "metadata": {
    "scrolled": true
   },
   "outputs": [],
   "source": [
    "cursor = tweepy.Cursor(api.user_timeline,id = \"narendramodi\",tweet_mode = \"extended\").items(1)"
   ]
  },
  {
   "cell_type": "code",
   "execution_count": 17,
   "id": "68541061",
   "metadata": {},
   "outputs": [
    {
     "name": "stderr",
     "output_type": "stream",
     "text": [
      "Unexpected parameter: id\n"
     ]
    },
    {
     "name": "stdout",
     "output_type": "stream",
     "text": [
      "The passing away of Gitashree Sandhya Mukhopadhyay Ji leaves us all extremely saddened. Our cultural world is a lot poorer. Her melodious renditions will continue to enthral the coming generations. My thoughts are with her family and admirers in this sad hour. Om Shanti.\n"
     ]
    }
   ],
   "source": [
    "for i in cursor:\n",
    "    print(i.full_text)"
   ]
  },
  {
   "cell_type": "code",
   "execution_count": 18,
   "id": "60f5847b",
   "metadata": {},
   "outputs": [],
   "source": [
    "cursor1 = tweepy.Cursor(api.search_tweets,q = \"Bitcoin\",tweet_mode = \"extended\").items(1)"
   ]
  },
  {
   "cell_type": "code",
   "execution_count": 19,
   "id": "261e3412",
   "metadata": {},
   "outputs": [
    {
     "name": "stdout",
     "output_type": "stream",
     "text": [
      "RT @cristobalsoria: #CRYPTO SORTEO DE #CHAMPIONS\n",
      "\n",
      "Premios: ⬇️\n",
      "▪️ 2000€ en #Bitcoin\n",
      "▪️ Una PlayStation 5\n",
      "▪️ Un iPhone 13 Pro Max\n",
      "\n",
      "Pasos 👇🏼\n",
      "✅…\n"
     ]
    }
   ],
   "source": [
    "for i in cursor1:\n",
    "    print(i.full_text)"
   ]
  },
  {
   "cell_type": "code",
   "execution_count": 22,
   "id": "231c24d1",
   "metadata": {},
   "outputs": [
    {
     "name": "stderr",
     "output_type": "stream",
     "text": [
      "Unexpected parameter: id\n",
      "Unexpected parameter: id\n",
      "Unexpected parameter: id\n",
      "Unexpected parameter: id\n",
      "Unexpected parameter: id\n",
      "Unexpected parameter: id\n",
      "Unexpected parameter: id\n",
      "Unexpected parameter: id\n",
      "Unexpected parameter: id\n",
      "Unexpected parameter: id\n",
      "Unexpected parameter: id\n"
     ]
    }
   ],
   "source": [
    "number_of_tweets = 200\n",
    "tweets = []\n",
    "likes = []\n",
    "time = []\n",
    "\n",
    "for i in tweepy.Cursor(api.user_timeline,id = \"narendramodi\",tweet_mode = \"extended\").items(number_of_tweets):\n",
    "    tweets.append(i.full_text)\n",
    "    likes.append(i.favorite_count)\n",
    "    time.append(i.created_at)"
   ]
  },
  {
   "cell_type": "code",
   "execution_count": 23,
   "id": "ecf77ea3",
   "metadata": {},
   "outputs": [],
   "source": [
    "df = pd.DataFrame({\"tweets\":tweets,\"likes\":likes,\"time\":time})"
   ]
  },
  {
   "cell_type": "code",
   "execution_count": 24,
   "id": "50183173",
   "metadata": {},
   "outputs": [
    {
     "data": {
      "text/html": [
       "<div>\n",
       "<style scoped>\n",
       "    .dataframe tbody tr th:only-of-type {\n",
       "        vertical-align: middle;\n",
       "    }\n",
       "\n",
       "    .dataframe tbody tr th {\n",
       "        vertical-align: top;\n",
       "    }\n",
       "\n",
       "    .dataframe thead th {\n",
       "        text-align: right;\n",
       "    }\n",
       "</style>\n",
       "<table border=\"1\" class=\"dataframe\">\n",
       "  <thead>\n",
       "    <tr style=\"text-align: right;\">\n",
       "      <th></th>\n",
       "      <th>tweets</th>\n",
       "      <th>likes</th>\n",
       "      <th>time</th>\n",
       "    </tr>\n",
       "  </thead>\n",
       "  <tbody>\n",
       "    <tr>\n",
       "      <th>0</th>\n",
       "      <td>গীতশ্রী সন্ধ্যা মুখোপাধ্যায়ের প্রয়াণে আমরা স...</td>\n",
       "      <td>530</td>\n",
       "      <td>2022-02-15 17:55:10+00:00</td>\n",
       "    </tr>\n",
       "    <tr>\n",
       "      <th>1</th>\n",
       "      <td>The passing away of Gitashree Sandhya Mukhopad...</td>\n",
       "      <td>5492</td>\n",
       "      <td>2022-02-15 17:24:33+00:00</td>\n",
       "    </tr>\n",
       "    <tr>\n",
       "      <th>2</th>\n",
       "      <td>रविदास जयंती के पावन अवसर पर कल सुबह 9 बजे मैं...</td>\n",
       "      <td>24895</td>\n",
       "      <td>2022-02-15 14:14:56+00:00</td>\n",
       "    </tr>\n",
       "    <tr>\n",
       "      <th>3</th>\n",
       "      <td>मुझे यह बताते हुए गर्व का अनुभव हो रहा है कि ह...</td>\n",
       "      <td>12353</td>\n",
       "      <td>2022-02-15 12:53:55+00:00</td>\n",
       "    </tr>\n",
       "    <tr>\n",
       "      <th>4</th>\n",
       "      <td>इस अवसर पर मुझे संत रविदास जी की पवित्र स्थली ...</td>\n",
       "      <td>18713</td>\n",
       "      <td>2022-02-15 12:52:27+00:00</td>\n",
       "    </tr>\n",
       "    <tr>\n",
       "      <th>...</th>\n",
       "      <td>...</td>\n",
       "      <td>...</td>\n",
       "      <td>...</td>\n",
       "    </tr>\n",
       "    <tr>\n",
       "      <th>195</th>\n",
       "      <td>आजादी के अमृत महोत्सव में देश अपने राष्ट्रीय प...</td>\n",
       "      <td>10501</td>\n",
       "      <td>2022-01-30 11:54:20+00:00</td>\n",
       "    </tr>\n",
       "    <tr>\n",
       "      <th>196</th>\n",
       "      <td>The work of the Hastinapur Foundation in Argen...</td>\n",
       "      <td>7082</td>\n",
       "      <td>2022-01-30 11:53:46+00:00</td>\n",
       "    </tr>\n",
       "    <tr>\n",
       "      <th>197</th>\n",
       "      <td>The people of Assam have shown great spirit an...</td>\n",
       "      <td>7880</td>\n",
       "      <td>2022-01-30 11:53:15+00:00</td>\n",
       "    </tr>\n",
       "    <tr>\n",
       "      <th>198</th>\n",
       "      <td>During #MannKiBaat today, talked about the lar...</td>\n",
       "      <td>6388</td>\n",
       "      <td>2022-01-30 11:52:38+00:00</td>\n",
       "    </tr>\n",
       "    <tr>\n",
       "      <th>199</th>\n",
       "      <td>It made me extremely happy that over a crore y...</td>\n",
       "      <td>5993</td>\n",
       "      <td>2022-01-30 11:52:07+00:00</td>\n",
       "    </tr>\n",
       "  </tbody>\n",
       "</table>\n",
       "<p>200 rows × 3 columns</p>\n",
       "</div>"
      ],
      "text/plain": [
       "                                                tweets  likes  \\\n",
       "0    গীতশ্রী সন্ধ্যা মুখোপাধ্যায়ের প্রয়াণে আমরা স...    530   \n",
       "1    The passing away of Gitashree Sandhya Mukhopad...   5492   \n",
       "2    रविदास जयंती के पावन अवसर पर कल सुबह 9 बजे मैं...  24895   \n",
       "3    मुझे यह बताते हुए गर्व का अनुभव हो रहा है कि ह...  12353   \n",
       "4    इस अवसर पर मुझे संत रविदास जी की पवित्र स्थली ...  18713   \n",
       "..                                                 ...    ...   \n",
       "195  आजादी के अमृत महोत्सव में देश अपने राष्ट्रीय प...  10501   \n",
       "196  The work of the Hastinapur Foundation in Argen...   7082   \n",
       "197  The people of Assam have shown great spirit an...   7880   \n",
       "198  During #MannKiBaat today, talked about the lar...   6388   \n",
       "199  It made me extremely happy that over a crore y...   5993   \n",
       "\n",
       "                         time  \n",
       "0   2022-02-15 17:55:10+00:00  \n",
       "1   2022-02-15 17:24:33+00:00  \n",
       "2   2022-02-15 14:14:56+00:00  \n",
       "3   2022-02-15 12:53:55+00:00  \n",
       "4   2022-02-15 12:52:27+00:00  \n",
       "..                        ...  \n",
       "195 2022-01-30 11:54:20+00:00  \n",
       "196 2022-01-30 11:53:46+00:00  \n",
       "197 2022-01-30 11:53:15+00:00  \n",
       "198 2022-01-30 11:52:38+00:00  \n",
       "199 2022-01-30 11:52:07+00:00  \n",
       "\n",
       "[200 rows x 3 columns]"
      ]
     },
     "execution_count": 24,
     "metadata": {},
     "output_type": "execute_result"
    }
   ],
   "source": [
    "df"
   ]
  },
  {
   "cell_type": "code",
   "execution_count": 25,
   "id": "f5b9b472",
   "metadata": {},
   "outputs": [],
   "source": [
    "df = df[~df.tweets.str.contains(\"RT\")]"
   ]
  },
  {
   "cell_type": "code",
   "execution_count": 26,
   "id": "b37f5a09",
   "metadata": {},
   "outputs": [
    {
     "data": {
      "text/html": [
       "<div>\n",
       "<style scoped>\n",
       "    .dataframe tbody tr th:only-of-type {\n",
       "        vertical-align: middle;\n",
       "    }\n",
       "\n",
       "    .dataframe tbody tr th {\n",
       "        vertical-align: top;\n",
       "    }\n",
       "\n",
       "    .dataframe thead th {\n",
       "        text-align: right;\n",
       "    }\n",
       "</style>\n",
       "<table border=\"1\" class=\"dataframe\">\n",
       "  <thead>\n",
       "    <tr style=\"text-align: right;\">\n",
       "      <th></th>\n",
       "      <th>tweets</th>\n",
       "      <th>likes</th>\n",
       "      <th>time</th>\n",
       "    </tr>\n",
       "  </thead>\n",
       "  <tbody>\n",
       "    <tr>\n",
       "      <th>0</th>\n",
       "      <td>গীতশ্রী সন্ধ্যা মুখোপাধ্যায়ের প্রয়াণে আমরা স...</td>\n",
       "      <td>530</td>\n",
       "      <td>2022-02-15 17:55:10+00:00</td>\n",
       "    </tr>\n",
       "    <tr>\n",
       "      <th>1</th>\n",
       "      <td>The passing away of Gitashree Sandhya Mukhopad...</td>\n",
       "      <td>5492</td>\n",
       "      <td>2022-02-15 17:24:33+00:00</td>\n",
       "    </tr>\n",
       "    <tr>\n",
       "      <th>2</th>\n",
       "      <td>रविदास जयंती के पावन अवसर पर कल सुबह 9 बजे मैं...</td>\n",
       "      <td>24895</td>\n",
       "      <td>2022-02-15 14:14:56+00:00</td>\n",
       "    </tr>\n",
       "    <tr>\n",
       "      <th>3</th>\n",
       "      <td>मुझे यह बताते हुए गर्व का अनुभव हो रहा है कि ह...</td>\n",
       "      <td>12353</td>\n",
       "      <td>2022-02-15 12:53:55+00:00</td>\n",
       "    </tr>\n",
       "    <tr>\n",
       "      <th>4</th>\n",
       "      <td>इस अवसर पर मुझे संत रविदास जी की पवित्र स्थली ...</td>\n",
       "      <td>18713</td>\n",
       "      <td>2022-02-15 12:52:27+00:00</td>\n",
       "    </tr>\n",
       "    <tr>\n",
       "      <th>...</th>\n",
       "      <td>...</td>\n",
       "      <td>...</td>\n",
       "      <td>...</td>\n",
       "    </tr>\n",
       "    <tr>\n",
       "      <th>195</th>\n",
       "      <td>आजादी के अमृत महोत्सव में देश अपने राष्ट्रीय प...</td>\n",
       "      <td>10501</td>\n",
       "      <td>2022-01-30 11:54:20+00:00</td>\n",
       "    </tr>\n",
       "    <tr>\n",
       "      <th>196</th>\n",
       "      <td>The work of the Hastinapur Foundation in Argen...</td>\n",
       "      <td>7082</td>\n",
       "      <td>2022-01-30 11:53:46+00:00</td>\n",
       "    </tr>\n",
       "    <tr>\n",
       "      <th>197</th>\n",
       "      <td>The people of Assam have shown great spirit an...</td>\n",
       "      <td>7880</td>\n",
       "      <td>2022-01-30 11:53:15+00:00</td>\n",
       "    </tr>\n",
       "    <tr>\n",
       "      <th>198</th>\n",
       "      <td>During #MannKiBaat today, talked about the lar...</td>\n",
       "      <td>6388</td>\n",
       "      <td>2022-01-30 11:52:38+00:00</td>\n",
       "    </tr>\n",
       "    <tr>\n",
       "      <th>199</th>\n",
       "      <td>It made me extremely happy that over a crore y...</td>\n",
       "      <td>5993</td>\n",
       "      <td>2022-01-30 11:52:07+00:00</td>\n",
       "    </tr>\n",
       "  </tbody>\n",
       "</table>\n",
       "<p>200 rows × 3 columns</p>\n",
       "</div>"
      ],
      "text/plain": [
       "                                                tweets  likes  \\\n",
       "0    গীতশ্রী সন্ধ্যা মুখোপাধ্যায়ের প্রয়াণে আমরা স...    530   \n",
       "1    The passing away of Gitashree Sandhya Mukhopad...   5492   \n",
       "2    रविदास जयंती के पावन अवसर पर कल सुबह 9 बजे मैं...  24895   \n",
       "3    मुझे यह बताते हुए गर्व का अनुभव हो रहा है कि ह...  12353   \n",
       "4    इस अवसर पर मुझे संत रविदास जी की पवित्र स्थली ...  18713   \n",
       "..                                                 ...    ...   \n",
       "195  आजादी के अमृत महोत्सव में देश अपने राष्ट्रीय प...  10501   \n",
       "196  The work of the Hastinapur Foundation in Argen...   7082   \n",
       "197  The people of Assam have shown great spirit an...   7880   \n",
       "198  During #MannKiBaat today, talked about the lar...   6388   \n",
       "199  It made me extremely happy that over a crore y...   5993   \n",
       "\n",
       "                         time  \n",
       "0   2022-02-15 17:55:10+00:00  \n",
       "1   2022-02-15 17:24:33+00:00  \n",
       "2   2022-02-15 14:14:56+00:00  \n",
       "3   2022-02-15 12:53:55+00:00  \n",
       "4   2022-02-15 12:52:27+00:00  \n",
       "..                        ...  \n",
       "195 2022-01-30 11:54:20+00:00  \n",
       "196 2022-01-30 11:53:46+00:00  \n",
       "197 2022-01-30 11:53:15+00:00  \n",
       "198 2022-01-30 11:52:38+00:00  \n",
       "199 2022-01-30 11:52:07+00:00  \n",
       "\n",
       "[200 rows x 3 columns]"
      ]
     },
     "execution_count": 26,
     "metadata": {},
     "output_type": "execute_result"
    }
   ],
   "source": [
    "df"
   ]
  },
  {
   "cell_type": "code",
   "execution_count": 27,
   "id": "7e90f59c",
   "metadata": {},
   "outputs": [],
   "source": [
    "most_like  = df.loc[df.likes.nlargest(5).index]"
   ]
  },
  {
   "cell_type": "code",
   "execution_count": 28,
   "id": "2831f3a1",
   "metadata": {},
   "outputs": [
    {
     "data": {
      "text/html": [
       "<div>\n",
       "<style scoped>\n",
       "    .dataframe tbody tr th:only-of-type {\n",
       "        vertical-align: middle;\n",
       "    }\n",
       "\n",
       "    .dataframe tbody tr th {\n",
       "        vertical-align: top;\n",
       "    }\n",
       "\n",
       "    .dataframe thead th {\n",
       "        text-align: right;\n",
       "    }\n",
       "</style>\n",
       "<table border=\"1\" class=\"dataframe\">\n",
       "  <thead>\n",
       "    <tr style=\"text-align: right;\">\n",
       "      <th></th>\n",
       "      <th>tweets</th>\n",
       "      <th>likes</th>\n",
       "      <th>time</th>\n",
       "    </tr>\n",
       "  </thead>\n",
       "  <tbody>\n",
       "    <tr>\n",
       "      <th>111</th>\n",
       "      <td>Paid my last respects to Lata Didi in Mumbai. ...</td>\n",
       "      <td>182771</td>\n",
       "      <td>2022-02-06 13:31:11+00:00</td>\n",
       "    </tr>\n",
       "    <tr>\n",
       "      <th>116</th>\n",
       "      <td>I am anguished beyond words. The kind and cari...</td>\n",
       "      <td>178585</td>\n",
       "      <td>2022-02-06 04:29:09+00:00</td>\n",
       "    </tr>\n",
       "    <tr>\n",
       "      <th>112</th>\n",
       "      <td>Will be leaving for Mumbai in some time to pay...</td>\n",
       "      <td>156733</td>\n",
       "      <td>2022-02-06 08:47:42+00:00</td>\n",
       "    </tr>\n",
       "    <tr>\n",
       "      <th>128</th>\n",
       "      <td>Had the honour of inaugurating the Statue of E...</td>\n",
       "      <td>130378</td>\n",
       "      <td>2022-02-05 15:49:29+00:00</td>\n",
       "    </tr>\n",
       "    <tr>\n",
       "      <th>114</th>\n",
       "      <td>I consider it my honour that I have always rec...</td>\n",
       "      <td>110459</td>\n",
       "      <td>2022-02-06 04:31:37+00:00</td>\n",
       "    </tr>\n",
       "  </tbody>\n",
       "</table>\n",
       "</div>"
      ],
      "text/plain": [
       "                                                tweets   likes  \\\n",
       "111  Paid my last respects to Lata Didi in Mumbai. ...  182771   \n",
       "116  I am anguished beyond words. The kind and cari...  178585   \n",
       "112  Will be leaving for Mumbai in some time to pay...  156733   \n",
       "128  Had the honour of inaugurating the Statue of E...  130378   \n",
       "114  I consider it my honour that I have always rec...  110459   \n",
       "\n",
       "                         time  \n",
       "111 2022-02-06 13:31:11+00:00  \n",
       "116 2022-02-06 04:29:09+00:00  \n",
       "112 2022-02-06 08:47:42+00:00  \n",
       "128 2022-02-05 15:49:29+00:00  \n",
       "114 2022-02-06 04:31:37+00:00  "
      ]
     },
     "execution_count": 28,
     "metadata": {},
     "output_type": "execute_result"
    }
   ],
   "source": [
    "most_like"
   ]
  },
  {
   "cell_type": "code",
   "execution_count": null,
   "id": "5bfdf398",
   "metadata": {},
   "outputs": [],
   "source": []
  }
 ],
 "metadata": {
  "kernelspec": {
   "display_name": "Python 3",
   "language": "python",
   "name": "python3"
  },
  "language_info": {
   "codemirror_mode": {
    "name": "ipython",
    "version": 3
   },
   "file_extension": ".py",
   "mimetype": "text/x-python",
   "name": "python",
   "nbconvert_exporter": "python",
   "pygments_lexer": "ipython3",
   "version": "3.8.8"
  }
 },
 "nbformat": 4,
 "nbformat_minor": 5
}
